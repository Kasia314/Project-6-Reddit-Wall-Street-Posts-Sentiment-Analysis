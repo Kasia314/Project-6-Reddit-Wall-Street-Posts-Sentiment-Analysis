{
 "cells": [
  {
   "cell_type": "markdown",
   "metadata": {},
   "source": [
    "## Context\n",
    "The data comes from https://www.kaggle.com/gpreda/reddit-wallstreetsbets-posts.\n",
    "\n",
    "WallStreetBets (r/wallstreetbets, also known as WSB), is a subreddit where participants discuss stock and option trading. It has become notable for its profane nature and allegations of users manipulating securities.\n",
    "\n",
    "Recently the community became mainstream again with its interest on GameStop shares (GME).\n",
    "\n",
    "\n",
    "## Tasks:\n",
    "1. Sentiment analysis;\n",
    "2. Text analysis (lengh of posts, most popular days to post, when people started to talk about GME, how often did it occur etc);"
   ]
  },
  {
   "cell_type": "code",
   "execution_count": 5,
   "metadata": {},
   "outputs": [
    {
     "name": "stderr",
     "output_type": "stream",
     "text": [
      "[nltk_data] Downloading package stopwords to\n",
      "[nltk_data]     C:\\Users\\Kasia\\AppData\\Roaming\\nltk_data...\n",
      "[nltk_data]   Package stopwords is already up-to-date!\n"
     ]
    }
   ],
   "source": [
    "import pandas as pd\n",
    "import numpy as np\n",
    "import matplotlib.pyplot as plt\n",
    "\n",
    "import re #regex\n",
    "import nltk # stopwords:slowa tyu 'the', 'a' etc\n",
    "nltk.download('stopwords')\n",
    "from nltk.corpus import stopwords\n",
    "from nltk.stem.porter import PorterStemmer # usuwa odmiany slow, czasy\n",
    "\n",
    "dataset = pd.read_csv('reddit_wsb.csv')\n",
    "df = dataset.copy()"
   ]
  },
  {
   "cell_type": "markdown",
   "metadata": {},
   "source": [
    "## Data cleaning"
   ]
  },
  {
   "cell_type": "code",
   "execution_count": 6,
   "metadata": {},
   "outputs": [
    {
     "data": {
      "text/html": [
       "<div>\n",
       "<style scoped>\n",
       "    .dataframe tbody tr th:only-of-type {\n",
       "        vertical-align: middle;\n",
       "    }\n",
       "\n",
       "    .dataframe tbody tr th {\n",
       "        vertical-align: top;\n",
       "    }\n",
       "\n",
       "    .dataframe thead th {\n",
       "        text-align: right;\n",
       "    }\n",
       "</style>\n",
       "<table border=\"1\" class=\"dataframe\">\n",
       "  <thead>\n",
       "    <tr style=\"text-align: right;\">\n",
       "      <th></th>\n",
       "      <th>title</th>\n",
       "      <th>score</th>\n",
       "      <th>comms_num</th>\n",
       "      <th>body</th>\n",
       "      <th>timestamp</th>\n",
       "    </tr>\n",
       "  </thead>\n",
       "  <tbody>\n",
       "    <tr>\n",
       "      <th>0</th>\n",
       "      <td>It's not about the money, it's about sending a...</td>\n",
       "      <td>55</td>\n",
       "      <td>6</td>\n",
       "      <td>NaN</td>\n",
       "      <td>2021-01-28 21:37:41</td>\n",
       "    </tr>\n",
       "    <tr>\n",
       "      <th>1</th>\n",
       "      <td>Math Professor Scott Steiner says the numbers ...</td>\n",
       "      <td>110</td>\n",
       "      <td>23</td>\n",
       "      <td>NaN</td>\n",
       "      <td>2021-01-28 21:32:10</td>\n",
       "    </tr>\n",
       "    <tr>\n",
       "      <th>2</th>\n",
       "      <td>Exit the system</td>\n",
       "      <td>0</td>\n",
       "      <td>47</td>\n",
       "      <td>The CEO of NASDAQ pushed to halt trading “to g...</td>\n",
       "      <td>2021-01-28 21:30:35</td>\n",
       "    </tr>\n",
       "    <tr>\n",
       "      <th>3</th>\n",
       "      <td>NEW SEC FILING FOR GME! CAN SOMEONE LESS RETAR...</td>\n",
       "      <td>29</td>\n",
       "      <td>74</td>\n",
       "      <td>NaN</td>\n",
       "      <td>2021-01-28 21:28:57</td>\n",
       "    </tr>\n",
       "    <tr>\n",
       "      <th>4</th>\n",
       "      <td>Not to distract from GME, just thought our AMC...</td>\n",
       "      <td>71</td>\n",
       "      <td>156</td>\n",
       "      <td>NaN</td>\n",
       "      <td>2021-01-28 21:26:56</td>\n",
       "    </tr>\n",
       "  </tbody>\n",
       "</table>\n",
       "</div>"
      ],
      "text/plain": [
       "                                               title  score  comms_num  \\\n",
       "0  It's not about the money, it's about sending a...     55          6   \n",
       "1  Math Professor Scott Steiner says the numbers ...    110         23   \n",
       "2                                    Exit the system      0         47   \n",
       "3  NEW SEC FILING FOR GME! CAN SOMEONE LESS RETAR...     29         74   \n",
       "4  Not to distract from GME, just thought our AMC...     71        156   \n",
       "\n",
       "                                                body            timestamp  \n",
       "0                                                NaN  2021-01-28 21:37:41  \n",
       "1                                                NaN  2021-01-28 21:32:10  \n",
       "2  The CEO of NASDAQ pushed to halt trading “to g...  2021-01-28 21:30:35  \n",
       "3                                                NaN  2021-01-28 21:28:57  \n",
       "4                                                NaN  2021-01-28 21:26:56  "
      ]
     },
     "execution_count": 6,
     "metadata": {},
     "output_type": "execute_result"
    }
   ],
   "source": [
    "# I will drtop unnecessary columns:\n",
    "\n",
    "df = df.drop(columns=['id', 'url', 'created'])\n",
    "df.head()"
   ]
  },
  {
   "cell_type": "code",
   "execution_count": 7,
   "metadata": {},
   "outputs": [
    {
     "data": {
      "text/plain": [
       "(33307, 5)"
      ]
     },
     "execution_count": 7,
     "metadata": {},
     "output_type": "execute_result"
    }
   ],
   "source": [
    "df = df.drop_duplicates()\n",
    "df.shape"
   ]
  },
  {
   "cell_type": "code",
   "execution_count": 15,
   "metadata": {},
   "outputs": [],
   "source": [
    "df = df[df['body'].notna()]"
   ]
  },
  {
   "cell_type": "markdown",
   "metadata": {},
   "source": [
    "## Analysis of text"
   ]
  },
  {
   "cell_type": "markdown",
   "metadata": {},
   "source": [
    "#### Checking occurence of some tickers:"
   ]
  },
  {
   "cell_type": "code",
   "execution_count": 16,
   "metadata": {},
   "outputs": [
    {
     "name": "stdout",
     "output_type": "stream",
     "text": [
      "There were 1438 occurences of AMC ticker in titles and 2111 in body.\n",
      "There were 3518 occurences of GME ticker in titles and 5834 in body.\n"
     ]
    }
   ],
   "source": [
    "df['title'] = df['title'].str.lower()\n",
    "df['body'] = df['body'].str.lower()\n",
    "\n",
    "amct = df['title'].str.contains('amc')\n",
    "sum_of_amct = amct.sum()\n",
    "amcb = df['body'].str.contains('amc')\n",
    "sum_of_amcb = amcb.sum()\n",
    "\n",
    "gmet = df['title'].str.contains('gme')\n",
    "sum_of_gmet = gmet.sum()\n",
    "gmeb = df['body'].str.contains('gme')\n",
    "sum_of_gmeb = gmeb.sum()\n",
    "\n",
    "print('There were',sum_of_amct,'occurences of AMC ticker in titles and',sum_of_amcb , 'in body.')\n",
    "print('There were',sum_of_gmet,'occurences of GME ticker in titles and',sum_of_gmeb , 'in body.')"
   ]
  },
  {
   "cell_type": "markdown",
   "metadata": {},
   "source": [
    "#### Checking length of posts:"
   ]
  },
  {
   "cell_type": "code",
   "execution_count": 17,
   "metadata": {},
   "outputs": [
    {
     "name": "stdout",
     "output_type": "stream",
     "text": [
      "Total length of a dataset:  880618 characters\n",
      "Average length of a body of the post:  50.0 characters\n"
     ]
    }
   ],
   "source": [
    "df['title_length'] = df['title'].str.len()\n",
    "\n",
    "print(\"Total length of a dataset: \", df.title_length.sum(), \"characters\")\n",
    "print(\"Average length of a body of the post: \", round(df.title_length.mean(),0), \"characters\")"
   ]
  },
  {
   "cell_type": "markdown",
   "metadata": {},
   "source": [
    "#### Checking when people started to talk about AMC"
   ]
  },
  {
   "cell_type": "code",
   "execution_count": 45,
   "metadata": {},
   "outputs": [
    {
     "data": {
      "text/html": [
       "<div>\n",
       "<style scoped>\n",
       "    .dataframe tbody tr th:only-of-type {\n",
       "        vertical-align: middle;\n",
       "    }\n",
       "\n",
       "    .dataframe tbody tr th {\n",
       "        vertical-align: top;\n",
       "    }\n",
       "\n",
       "    .dataframe thead th {\n",
       "        text-align: right;\n",
       "    }\n",
       "</style>\n",
       "<table border=\"1\" class=\"dataframe\">\n",
       "  <thead>\n",
       "    <tr style=\"text-align: right;\">\n",
       "      <th></th>\n",
       "      <th>title</th>\n",
       "      <th>score</th>\n",
       "      <th>comms_num</th>\n",
       "      <th>body</th>\n",
       "      <th>timestamp</th>\n",
       "      <th>title_length</th>\n",
       "      <th>title_sentiment</th>\n",
       "      <th>day_of_week</th>\n",
       "    </tr>\n",
       "  </thead>\n",
       "  <tbody>\n",
       "    <tr>\n",
       "      <th>253</th>\n",
       "      <td>what are you doing to amc?</td>\n",
       "      <td>67</td>\n",
       "      <td>55</td>\n",
       "      <td>hey retards what the hell is going on with amc...</td>\n",
       "      <td>2021-01-28 09:08:21</td>\n",
       "      <td>26</td>\n",
       "      <td>Neutral</td>\n",
       "      <td>3</td>\n",
       "    </tr>\n",
       "    <tr>\n",
       "      <th>236</th>\n",
       "      <td>deluge of spam posts of stocks like nokia and ...</td>\n",
       "      <td>43</td>\n",
       "      <td>20</td>\n",
       "      <td>i might not be able to read letters, but numbe...</td>\n",
       "      <td>2021-01-28 09:10:11</td>\n",
       "      <td>124</td>\n",
       "      <td>Neutral</td>\n",
       "      <td>3</td>\n",
       "    </tr>\n",
       "    <tr>\n",
       "      <th>234</th>\n",
       "      <td>potential gamma squeeze on amc friday?</td>\n",
       "      <td>28</td>\n",
       "      <td>14</td>\n",
       "      <td>all the current options are deep itm. will thi...</td>\n",
       "      <td>2021-01-28 09:10:32</td>\n",
       "      <td>38</td>\n",
       "      <td>Neutral</td>\n",
       "      <td>3</td>\n",
       "    </tr>\n",
       "    <tr>\n",
       "      <th>232</th>\n",
       "      <td>with well over a billion trades on $amc would ...</td>\n",
       "      <td>24</td>\n",
       "      <td>27</td>\n",
       "      <td>what am i missing people? $amc has seen over b...</td>\n",
       "      <td>2021-01-28 09:10:44</td>\n",
       "      <td>107</td>\n",
       "      <td>Neutral</td>\n",
       "      <td>3</td>\n",
       "    </tr>\n",
       "    <tr>\n",
       "      <th>226</th>\n",
       "      <td>down on amc by a lot</td>\n",
       "      <td>51</td>\n",
       "      <td>100</td>\n",
       "      <td>down heavy on amc, 49k shares @18.90 please he...</td>\n",
       "      <td>2021-01-28 09:11:46</td>\n",
       "      <td>20</td>\n",
       "      <td>Neutral</td>\n",
       "      <td>3</td>\n",
       "    </tr>\n",
       "  </tbody>\n",
       "</table>\n",
       "</div>"
      ],
      "text/plain": [
       "                                                 title  score  comms_num  \\\n",
       "253                         what are you doing to amc?     67         55   \n",
       "236  deluge of spam posts of stocks like nokia and ...     43         20   \n",
       "234             potential gamma squeeze on amc friday?     28         14   \n",
       "232  with well over a billion trades on $amc would ...     24         27   \n",
       "226                               down on amc by a lot     51        100   \n",
       "\n",
       "                                                  body           timestamp  \\\n",
       "253  hey retards what the hell is going on with amc... 2021-01-28 09:08:21   \n",
       "236  i might not be able to read letters, but numbe... 2021-01-28 09:10:11   \n",
       "234  all the current options are deep itm. will thi... 2021-01-28 09:10:32   \n",
       "232  what am i missing people? $amc has seen over b... 2021-01-28 09:10:44   \n",
       "226  down heavy on amc, 49k shares @18.90 please he... 2021-01-28 09:11:46   \n",
       "\n",
       "     title_length title_sentiment  day_of_week  \n",
       "253            26         Neutral            3  \n",
       "236           124         Neutral            3  \n",
       "234            38         Neutral            3  \n",
       "232           107         Neutral            3  \n",
       "226            20         Neutral            3  "
      ]
     },
     "execution_count": 45,
     "metadata": {},
     "output_type": "execute_result"
    }
   ],
   "source": [
    "#AMC in titles\n",
    "df.loc[(df['title'].str.contains('amc'))].sort_values('timestamp',ascending=True).head()"
   ]
  },
  {
   "cell_type": "code",
   "execution_count": 46,
   "metadata": {},
   "outputs": [
    {
     "data": {
      "text/html": [
       "<div>\n",
       "<style scoped>\n",
       "    .dataframe tbody tr th:only-of-type {\n",
       "        vertical-align: middle;\n",
       "    }\n",
       "\n",
       "    .dataframe tbody tr th {\n",
       "        vertical-align: top;\n",
       "    }\n",
       "\n",
       "    .dataframe thead th {\n",
       "        text-align: right;\n",
       "    }\n",
       "</style>\n",
       "<table border=\"1\" class=\"dataframe\">\n",
       "  <thead>\n",
       "    <tr style=\"text-align: right;\">\n",
       "      <th></th>\n",
       "      <th>title</th>\n",
       "      <th>score</th>\n",
       "      <th>comms_num</th>\n",
       "      <th>body</th>\n",
       "      <th>timestamp</th>\n",
       "      <th>title_length</th>\n",
       "      <th>title_sentiment</th>\n",
       "      <th>day_of_week</th>\n",
       "    </tr>\n",
       "  </thead>\n",
       "  <tbody>\n",
       "    <tr>\n",
       "      <th>255</th>\n",
       "      <td>i got in late on gme but i believe in the caus...</td>\n",
       "      <td>75</td>\n",
       "      <td>14</td>\n",
       "      <td>you guys are amazing. thank you for sending gm...</td>\n",
       "      <td>2021-01-28 09:08:18</td>\n",
       "      <td>78</td>\n",
       "      <td>Neutral</td>\n",
       "      <td>3</td>\n",
       "    </tr>\n",
       "    <tr>\n",
       "      <th>253</th>\n",
       "      <td>what are you doing to amc?</td>\n",
       "      <td>67</td>\n",
       "      <td>55</td>\n",
       "      <td>hey retards what the hell is going on with amc...</td>\n",
       "      <td>2021-01-28 09:08:21</td>\n",
       "      <td>26</td>\n",
       "      <td>Neutral</td>\n",
       "      <td>3</td>\n",
       "    </tr>\n",
       "    <tr>\n",
       "      <th>236</th>\n",
       "      <td>deluge of spam posts of stocks like nokia and ...</td>\n",
       "      <td>43</td>\n",
       "      <td>20</td>\n",
       "      <td>i might not be able to read letters, but numbe...</td>\n",
       "      <td>2021-01-28 09:10:11</td>\n",
       "      <td>124</td>\n",
       "      <td>Neutral</td>\n",
       "      <td>3</td>\n",
       "    </tr>\n",
       "    <tr>\n",
       "      <th>232</th>\n",
       "      <td>with well over a billion trades on $amc would ...</td>\n",
       "      <td>24</td>\n",
       "      <td>27</td>\n",
       "      <td>what am i missing people? $amc has seen over b...</td>\n",
       "      <td>2021-01-28 09:10:44</td>\n",
       "      <td>107</td>\n",
       "      <td>Neutral</td>\n",
       "      <td>3</td>\n",
       "    </tr>\n",
       "    <tr>\n",
       "      <th>231</th>\n",
       "      <td>gamma squeeze imminent sorrento therapeutics</td>\n",
       "      <td>0</td>\n",
       "      <td>12</td>\n",
       "      <td>this is my dd of srne, just yesterday news cam...</td>\n",
       "      <td>2021-01-28 09:11:00</td>\n",
       "      <td>44</td>\n",
       "      <td>Neutral</td>\n",
       "      <td>3</td>\n",
       "    </tr>\n",
       "  </tbody>\n",
       "</table>\n",
       "</div>"
      ],
      "text/plain": [
       "                                                 title  score  comms_num  \\\n",
       "255  i got in late on gme but i believe in the caus...     75         14   \n",
       "253                         what are you doing to amc?     67         55   \n",
       "236  deluge of spam posts of stocks like nokia and ...     43         20   \n",
       "232  with well over a billion trades on $amc would ...     24         27   \n",
       "231       gamma squeeze imminent sorrento therapeutics      0         12   \n",
       "\n",
       "                                                  body           timestamp  \\\n",
       "255  you guys are amazing. thank you for sending gm... 2021-01-28 09:08:18   \n",
       "253  hey retards what the hell is going on with amc... 2021-01-28 09:08:21   \n",
       "236  i might not be able to read letters, but numbe... 2021-01-28 09:10:11   \n",
       "232  what am i missing people? $amc has seen over b... 2021-01-28 09:10:44   \n",
       "231  this is my dd of srne, just yesterday news cam... 2021-01-28 09:11:00   \n",
       "\n",
       "     title_length title_sentiment  day_of_week  \n",
       "255            78         Neutral            3  \n",
       "253            26         Neutral            3  \n",
       "236           124         Neutral            3  \n",
       "232           107         Neutral            3  \n",
       "231            44         Neutral            3  "
      ]
     },
     "execution_count": 46,
     "metadata": {},
     "output_type": "execute_result"
    }
   ],
   "source": [
    "#AMC in body\n",
    "df.loc[(df['body'].str.contains('amc'))].sort_values('timestamp',ascending=True).head()"
   ]
  },
  {
   "cell_type": "code",
   "execution_count": null,
   "metadata": {},
   "outputs": [],
   "source": []
  },
  {
   "cell_type": "markdown",
   "metadata": {},
   "source": [
    "#### Checking most popular words in col 'body':"
   ]
  },
  {
   "cell_type": "code",
   "execution_count": 26,
   "metadata": {},
   "outputs": [
    {
     "name": "stdout",
     "output_type": "stream",
     "text": [
      "['the', 'ceo', 'of', 'nasdaq', 'pushed', 'to', 'halt', 'trading', '“to', 'give']\n"
     ]
    }
   ],
   "source": [
    "#making list of all bodies (cleaned and splitted to words):\n",
    "\n",
    "def create_list_of_words(df,col):\n",
    "    list_of_bodies = []\n",
    "    for i, content in df[col].items():\n",
    "        for i in content.split():\n",
    "            list_of_bodies.append(i.lower())\n",
    "    return list_of_bodies\n",
    "\n",
    "list_of_bodies = create_list_of_words(df,'body')\n",
    "print(list_of_bodies[0:10])"
   ]
  },
  {
   "cell_type": "code",
   "execution_count": 27,
   "metadata": {},
   "outputs": [],
   "source": [
    "#stemming and removing stopwords:\n",
    "#ps = PorterStemmer()\n",
    "#list_of_bodies = [ps.stem(word) for word in list_of_bodies if not word in set(stopwords.words('english'))]   \n",
    "#print(list_of_bodies[0:10])"
   ]
  },
  {
   "cell_type": "code",
   "execution_count": 28,
   "metadata": {},
   "outputs": [
    {
     "name": "stdout",
     "output_type": "stream",
     "text": [
      "['ceo', 'nasdaq', 'pushed', 'halt', 'trading', '“to', 'give', 'investors', 'chance', 'recalibrate']\n"
     ]
    }
   ],
   "source": [
    "#removing stop words:\n",
    "\n",
    "stop_words = set(stopwords.words('english'))  \n",
    "list_of_bodies = [i for i in list_of_bodies if not i in stop_words]\n",
    "print(list_of_bodies[0:10])"
   ]
  },
  {
   "cell_type": "code",
   "execution_count": 30,
   "metadata": {},
   "outputs": [
    {
     "name": "stdout",
     "output_type": "stream",
     "text": [
      "{'gme': 7174, 'like': 6631, 'buy': 5949, 'short': 5926, 'stock': 5924, 'shares': 5743, 'people': 5399, 'get': 5197, 'market': 5015, 'price': 4648}\n"
     ]
    }
   ],
   "source": [
    "#retrieving 10 most popularwords:\n",
    "\n",
    "from collections import Counter\n",
    "counter_dict = Counter(list_of_bodies)\n",
    "\n",
    "counter_dict_sorted = {k:v for k,v in sorted(counter_dict.items(), key= lambda x: x[1], reverse=True)}\n",
    "print(dict(list(counter_dict_sorted.items())[0:10]))"
   ]
  },
  {
   "cell_type": "code",
   "execution_count": 31,
   "metadata": {},
   "outputs": [
    {
     "data": {
      "text/html": [
       "<div>\n",
       "<style scoped>\n",
       "    .dataframe tbody tr th:only-of-type {\n",
       "        vertical-align: middle;\n",
       "    }\n",
       "\n",
       "    .dataframe tbody tr th {\n",
       "        vertical-align: top;\n",
       "    }\n",
       "\n",
       "    .dataframe thead th {\n",
       "        text-align: right;\n",
       "    }\n",
       "</style>\n",
       "<table border=\"1\" class=\"dataframe\">\n",
       "  <thead>\n",
       "    <tr style=\"text-align: right;\">\n",
       "      <th></th>\n",
       "      <th>Word</th>\n",
       "      <th>Occurence</th>\n",
       "    </tr>\n",
       "  </thead>\n",
       "  <tbody>\n",
       "    <tr>\n",
       "      <th>0</th>\n",
       "      <td>gme</td>\n",
       "      <td>7174</td>\n",
       "    </tr>\n",
       "    <tr>\n",
       "      <th>1</th>\n",
       "      <td>like</td>\n",
       "      <td>6631</td>\n",
       "    </tr>\n",
       "    <tr>\n",
       "      <th>2</th>\n",
       "      <td>buy</td>\n",
       "      <td>5949</td>\n",
       "    </tr>\n",
       "    <tr>\n",
       "      <th>3</th>\n",
       "      <td>short</td>\n",
       "      <td>5926</td>\n",
       "    </tr>\n",
       "    <tr>\n",
       "      <th>4</th>\n",
       "      <td>stock</td>\n",
       "      <td>5924</td>\n",
       "    </tr>\n",
       "    <tr>\n",
       "      <th>5</th>\n",
       "      <td>shares</td>\n",
       "      <td>5743</td>\n",
       "    </tr>\n",
       "    <tr>\n",
       "      <th>6</th>\n",
       "      <td>people</td>\n",
       "      <td>5399</td>\n",
       "    </tr>\n",
       "    <tr>\n",
       "      <th>7</th>\n",
       "      <td>get</td>\n",
       "      <td>5197</td>\n",
       "    </tr>\n",
       "    <tr>\n",
       "      <th>8</th>\n",
       "      <td>market</td>\n",
       "      <td>5015</td>\n",
       "    </tr>\n",
       "    <tr>\n",
       "      <th>9</th>\n",
       "      <td>price</td>\n",
       "      <td>4648</td>\n",
       "    </tr>\n",
       "  </tbody>\n",
       "</table>\n",
       "</div>"
      ],
      "text/plain": [
       "     Word  Occurence\n",
       "0     gme       7174\n",
       "1    like       6631\n",
       "2     buy       5949\n",
       "3   short       5926\n",
       "4   stock       5924\n",
       "5  shares       5743\n",
       "6  people       5399\n",
       "7     get       5197\n",
       "8  market       5015\n",
       "9   price       4648"
      ]
     },
     "execution_count": 31,
     "metadata": {},
     "output_type": "execute_result"
    }
   ],
   "source": [
    "popular_words = pd.DataFrame(counter_dict_sorted.items(), columns=['Word', 'Occurence'])\n",
    "popular_words.head(10)"
   ]
  },
  {
   "cell_type": "markdown",
   "metadata": {},
   "source": [
    "#### Analizing the sentiment of titles"
   ]
  },
  {
   "cell_type": "code",
   "execution_count": 32,
   "metadata": {},
   "outputs": [
    {
     "data": {
      "text/html": [
       "<div>\n",
       "<style scoped>\n",
       "    .dataframe tbody tr th:only-of-type {\n",
       "        vertical-align: middle;\n",
       "    }\n",
       "\n",
       "    .dataframe tbody tr th {\n",
       "        vertical-align: top;\n",
       "    }\n",
       "\n",
       "    .dataframe thead th {\n",
       "        text-align: right;\n",
       "    }\n",
       "</style>\n",
       "<table border=\"1\" class=\"dataframe\">\n",
       "  <thead>\n",
       "    <tr style=\"text-align: right;\">\n",
       "      <th></th>\n",
       "      <th>title</th>\n",
       "      <th>score</th>\n",
       "      <th>comms_num</th>\n",
       "      <th>body</th>\n",
       "      <th>timestamp</th>\n",
       "      <th>title_length</th>\n",
       "      <th>title_sentiment</th>\n",
       "    </tr>\n",
       "  </thead>\n",
       "  <tbody>\n",
       "    <tr>\n",
       "      <th>2</th>\n",
       "      <td>exit the system</td>\n",
       "      <td>0</td>\n",
       "      <td>47</td>\n",
       "      <td>the ceo of nasdaq pushed to halt trading “to g...</td>\n",
       "      <td>2021-01-28 21:30:35</td>\n",
       "      <td>15</td>\n",
       "      <td>Neutral</td>\n",
       "    </tr>\n",
       "    <tr>\n",
       "      <th>6</th>\n",
       "      <td>short stock doesn't have an expiration date</td>\n",
       "      <td>317</td>\n",
       "      <td>53</td>\n",
       "      <td>hedgefund whales are spreading disinfo saying ...</td>\n",
       "      <td>2021-01-28 21:26:27</td>\n",
       "      <td>43</td>\n",
       "      <td>Neutral</td>\n",
       "    </tr>\n",
       "    <tr>\n",
       "      <th>7</th>\n",
       "      <td>this is the moment</td>\n",
       "      <td>405</td>\n",
       "      <td>178</td>\n",
       "      <td>life isn't fair. my mother always told me that...</td>\n",
       "      <td>2021-01-28 21:19:31</td>\n",
       "      <td>18</td>\n",
       "      <td>Neutral</td>\n",
       "    </tr>\n",
       "    <tr>\n",
       "      <th>10</th>\n",
       "      <td>we need to keep this movement going, we all ca...</td>\n",
       "      <td>222</td>\n",
       "      <td>70</td>\n",
       "      <td>i believe right now is one of those rare oppo...</td>\n",
       "      <td>2021-01-28 21:18:25</td>\n",
       "      <td>61</td>\n",
       "      <td>Neutral</td>\n",
       "    </tr>\n",
       "    <tr>\n",
       "      <th>12</th>\n",
       "      <td>once you're done with gme - $ag and $slv, the ...</td>\n",
       "      <td>0</td>\n",
       "      <td>16</td>\n",
       "      <td>you guys are champs. gme... who would have tho...</td>\n",
       "      <td>2021-01-28 21:17:10</td>\n",
       "      <td>101</td>\n",
       "      <td>Neutral</td>\n",
       "    </tr>\n",
       "  </tbody>\n",
       "</table>\n",
       "</div>"
      ],
      "text/plain": [
       "                                                title  score  comms_num  \\\n",
       "2                                     exit the system      0         47   \n",
       "6         short stock doesn't have an expiration date    317         53   \n",
       "7                                  this is the moment    405        178   \n",
       "10  we need to keep this movement going, we all ca...    222         70   \n",
       "12  once you're done with gme - $ag and $slv, the ...      0         16   \n",
       "\n",
       "                                                 body            timestamp  \\\n",
       "2   the ceo of nasdaq pushed to halt trading “to g...  2021-01-28 21:30:35   \n",
       "6   hedgefund whales are spreading disinfo saying ...  2021-01-28 21:26:27   \n",
       "7   life isn't fair. my mother always told me that...  2021-01-28 21:19:31   \n",
       "10   i believe right now is one of those rare oppo...  2021-01-28 21:18:25   \n",
       "12  you guys are champs. gme... who would have tho...  2021-01-28 21:17:10   \n",
       "\n",
       "    title_length title_sentiment  \n",
       "2             15         Neutral  \n",
       "6             43         Neutral  \n",
       "7             18         Neutral  \n",
       "10            61         Neutral  \n",
       "12           101         Neutral  "
      ]
     },
     "execution_count": 32,
     "metadata": {},
     "output_type": "execute_result"
    }
   ],
   "source": [
    "from textblob import TextBlob\n",
    "\n",
    "titles=df[[\"title\"]].dropna()\n",
    "titles=list(titles[\"title\"]) #changing df col into list\n",
    "title_sentiment=[]\n",
    "\n",
    "for title in titles:\n",
    "    polarity = TextBlob(title).sentiment.polarity\n",
    "    if polarity>0.5:\n",
    "        title_sentiment.append(\"Positive\")\n",
    "    elif polarity<-0.5:\n",
    "        title_sentiment.append(\"Negative\")\n",
    "    else:\n",
    "        title_sentiment.append(\"Neutral\")\n",
    "\n",
    "        \n",
    "df['title_sentiment']= title_sentiment\n",
    "df.head()"
   ]
  },
  {
   "cell_type": "code",
   "execution_count": 33,
   "metadata": {},
   "outputs": [
    {
     "data": {
      "text/plain": [
       "Text(0.5, 1.0, 'Titles Sentiment')"
      ]
     },
     "execution_count": 33,
     "metadata": {},
     "output_type": "execute_result"
    },
    {
     "data": {
      "image/png": "[encoded data removed]",
      "text/plain": [
       "<Figure size 432x288 with 1 Axes>"
      ]
     },
     "metadata": {},
     "output_type": "display_data"
    }
   ],
   "source": [
    "import seaborn as sns\n",
    "sns.set()\n",
    "df['title_sentiment'].hist(figsize=(6,4))\n",
    "\n",
    "plt.xlabel('Title Sentiment')\n",
    "plt.ylabel('Count')\n",
    "plt.title('Titles Sentiment')"
   ]
  },
  {
   "cell_type": "code",
   "execution_count": 34,
   "metadata": {},
   "outputs": [
    {
     "data": {
      "image/png": "[encoded data removed]",
      "text/plain": [
       "<Figure size 432x288 with 1 Axes>"
      ]
     },
     "metadata": {},
     "output_type": "display_data"
    }
   ],
   "source": [
    "group = df.groupby(by='title_sentiment')[['comms_num']].mean().sort_values(by='comms_num', ascending=False)\n",
    "group.plot.bar(figsize=(6,4))\n",
    "plt.ylabel('Nb of comments')\n",
    "plt.title('Nb of comments vs sentiment')\n",
    "plt.show()"
   ]
  },
  {
   "cell_type": "code",
   "execution_count": null,
   "metadata": {},
   "outputs": [],
   "source": [
    "# basing on these two plots, we can observe that titles that have not neutral sentiment are more commonly commented"
   ]
  },
  {
   "cell_type": "markdown",
   "metadata": {},
   "source": [
    "#### Checking on which day of week people comment the most"
   ]
  },
  {
   "cell_type": "code",
   "execution_count": 52,
   "metadata": {},
   "outputs": [
    {
     "data": {
      "image/png": "[encoded data removed]",
      "text/plain": [
       "<Figure size 432x288 with 1 Axes>"
      ]
     },
     "metadata": {},
     "output_type": "display_data"
    }
   ],
   "source": [
    "df['timestamp'] = pd.to_datetime(df['timestamp'])\n",
    "df['day_of_week'] = df['timestamp'].dt.weekday\n",
    "df['day_of_week'] = df['day_of_week'].map({0:'Monday', 1: 'Tuesday', 2:'Wednesday', 3:'Thursday', 4:'Friday', 5:'Saturday', 6:'Sunday'})\n",
    "\n",
    "group1 = df.groupby(by='day_of_week')[['comms_num']].sum().sort_values(by='comms_num', ascending=False).head(10)\n",
    "group1.plot.bar(figsize=(6,4))\n",
    "plt.ylabel('Nb of comments')\n",
    "plt.title('Weekday')\n",
    "plt.show()"
   ]
  },
  {
   "cell_type": "markdown",
   "metadata": {},
   "source": [
    "#### Checking how the engagement in a group was changing over the days"
   ]
  },
  {
   "cell_type": "code",
   "execution_count": 60,
   "metadata": {},
   "outputs": [
    {
     "data": {
      "image/png": "[encoded data removed]",
      "text/plain": [
       "<Figure size 432x288 with 1 Axes>"
      ]
     },
     "metadata": {},
     "output_type": "display_data"
    }
   ],
   "source": [
    "df['date'] = df['timestamp'].dt.date\n",
    "group2 = df.groupby(by='date')[['comms_num']].sum()\n",
    "group2.plot.bar(figsize=(6,4))\n",
    "plt.ylabel('Nb of comments')\n",
    "plt.title('Nb of comments daily')\n",
    "plt.show()"
   ]
  },
  {
   "cell_type": "code",
   "execution_count": null,
   "metadata": {},
   "outputs": [],
   "source": []
  },
  {
   "cell_type": "code",
   "execution_count": null,
   "metadata": {},
   "outputs": [],
   "source": []
  }
 ],
 "metadata": {
  "kernelspec": {
   "display_name": "Python 3",
   "language": "python",
   "name": "python3"
  },
  "language_info": {
   "codemirror_mode": {
    "name": "ipython",
    "version": 3
   },
   "file_extension": ".py",
   "mimetype": "text/x-python",
   "name": "python",
   "nbconvert_exporter": "python",
   "pygments_lexer": "ipython3",
   "version": "3.7.6"
  },
  "toc": {
   "base_numbering": 1,
   "nav_menu": {},
   "number_sections": true,
   "sideBar": true,
   "skip_h1_title": false,
   "title_cell": "Table of Contents",
   "title_sidebar": "Contents",
   "toc_cell": false,
   "toc_position": {},
   "toc_section_display": true,
   "toc_window_display": false
  }
 },
 "nbformat": 4,
 "nbformat_minor": 4
}
